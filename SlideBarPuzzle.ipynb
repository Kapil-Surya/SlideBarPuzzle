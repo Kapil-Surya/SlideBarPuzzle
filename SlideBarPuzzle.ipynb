{
  "nbformat": 4,
  "nbformat_minor": 0,
  "metadata": {
    "colab": {
      "provenance": [],
      "authorship_tag": "ABX9TyMncXy0hbYedhVPng+p7JsB",
      "include_colab_link": true
    },
    "kernelspec": {
      "name": "python3",
      "display_name": "Python 3"
    },
    "language_info": {
      "name": "python"
    }
  },
  "cells": [
    {
      "cell_type": "markdown",
      "metadata": {
        "id": "view-in-github",
        "colab_type": "text"
      },
      "source": [
        "<a href=\"https://colab.research.google.com/github/Kapil-Surya/SlideBarPuzzle/blob/main/SlideBarPuzzle.ipynb\" target=\"_parent\"><img src=\"https://colab.research.google.com/assets/colab-badge.svg\" alt=\"Open In Colab\"/></a>"
      ]
    },
    {
      "cell_type": "markdown",
      "source": [
        "##Kapil Surya\n",
        "##HU21CSEN0100614"
      ],
      "metadata": {
        "id": "iLbDtXdvmbht"
      }
    },
    {
      "cell_type": "markdown",
      "source": [
        "##Agent modules"
      ],
      "metadata": {
        "id": "x7Y3ipED0r0F"
      }
    },
    {
      "cell_type": "markdown",
      "source": [
        "Enivronment build module\n"
      ],
      "metadata": {
        "id": "xqnAVMK8043c"
      }
    },
    {
      "cell_type": "code",
      "source": [
        "import copy"
      ],
      "metadata": {
        "id": "XDXLu-Nuzvj7"
      },
      "execution_count": 1,
      "outputs": []
    },
    {
      "cell_type": "code",
      "source": [
        "print(\"   Welcome to slide bar puzzle    \\n\")\n",
        "n=3\n",
        "m=3\n",
        "def create_envi(n, m):\n",
        "    envi = []\n",
        "    for a in range(n):\n",
        "        row = []\n",
        "        for b in range(m):\n",
        "            value = int(input())\n",
        "            row.append(value)\n",
        "        envi.append(row)\n",
        "    return envi\n",
        "def print_envi(envi):\n",
        "    for val in envi:\n",
        "      for f in val:\n",
        "        print(\"[\",f,\"]\", end=\" \")\n",
        "      print()\n",
        "\n",
        "\n",
        "print(\"Choose the initial state:\\n\")\n",
        "#envi = create_envi(n, m)           #remove the hash to use custom intial state\n",
        "envi = [[2, 5, 6], [1, 0, 3], [7, 4, 8]]\n",
        "\n",
        "print(\"The initial state is:\\n\")\n",
        "print_envi(envi)\n",
        "print(\"\\n# 0 is the empty tile \\n# Try to reach the final state\")\n",
        "\n",
        "final_envi=[[1, 2, 3], [4, 5, 6], [7, 8, 0]]\n",
        "print(\"The final state should be:\",)\n",
        "for val in final_envi:\n",
        "  print()\n",
        "  for f in val:\n",
        "    print(\"[\",f,\"]\", end=\" \")"
      ],
      "metadata": {
        "colab": {
          "base_uri": "https://localhost:8080/"
        },
        "id": "SRX7X-_NmxC6",
        "outputId": "7663da3f-57f9-45aa-8980-98959b9b250d"
      },
      "execution_count": 2,
      "outputs": [
        {
          "output_type": "stream",
          "name": "stdout",
          "text": [
            "   Welcome to slide bar puzzle    \n",
            "\n",
            "Choose the initial state:\n",
            "\n",
            "The initial state is:\n",
            "\n",
            "[ 2 ] [ 5 ] [ 6 ] \n",
            "[ 1 ] [ 0 ] [ 3 ] \n",
            "[ 7 ] [ 4 ] [ 8 ] \n",
            "\n",
            "# 0 is the empty tile \n",
            "# Try to reach the final state\n",
            "The final state should be:\n",
            "\n",
            "[ 1 ] [ 2 ] [ 3 ] \n",
            "[ 4 ] [ 5 ] [ 6 ] \n",
            "[ 7 ] [ 8 ] [ 0 ] "
          ]
        }
      ]
    },
    {
      "cell_type": "markdown",
      "source": [
        "**Remove hash before the code lines if used individually**"
      ],
      "metadata": {
        "id": "mFWYf9KVPItp"
      }
    },
    {
      "cell_type": "markdown",
      "source": [
        "position of null module"
      ],
      "metadata": {
        "id": "ReWCOgW208Lb"
      }
    },
    {
      "cell_type": "code",
      "source": [
        "# Position is stored in x,y\n",
        "# Movable tiles are stored in array movable\n",
        "# initial envi is stroed in envi\n",
        "# Final envi is stored in final_envi\n",
        "def pos_of_null(envi):\n",
        "  x=-1\n",
        "  y=-1\n",
        "  count=0\n",
        "  for row in envi:\n",
        "    x= x+1\n",
        "    for ele in row:\n",
        "      y = y+1\n",
        "      if(y==3):\n",
        "        y=0\n",
        "      if (ele==0):\n",
        "        a = x\n",
        "        b = y\n",
        "  return a,b\n",
        "\n",
        "#x,y=pos_of_null(envi)\n",
        "##print(\"The position of null is\",x,y)"
      ],
      "metadata": {
        "id": "NZH-sNiMouAp"
      },
      "execution_count": 3,
      "outputs": []
    },
    {
      "cell_type": "markdown",
      "source": [
        "Movable tiles module"
      ],
      "metadata": {
        "id": "yc3kq8cd1XH9"
      }
    },
    {
      "cell_type": "code",
      "source": [
        "def possible(x,y,envi):\n",
        "  a=-1\n",
        "  b=-1\n",
        "  chosen = []\n",
        "  for row in envi:\n",
        "    a= a+1\n",
        "    for ele in row:\n",
        "      b = b+1\n",
        "      if(b==3):\n",
        "        b=0\n",
        "      if(a==x or b==y):\n",
        "        if((a-x == 1 or a-x == -1 or a-x == 0) and (b-y==1 or b-y==-1 or b-y==0)):\n",
        "          if(x==a and y==b):\n",
        "            print()\n",
        "          else:\n",
        "            chosen.append([a,b])\n",
        "  return chosen\n",
        "#movable = possible(x,y,envi)\n",
        "#print(\"The movable tiles are: \",movable)"
      ],
      "metadata": {
        "id": "8SgW8Lkc1RMr"
      },
      "execution_count": 4,
      "outputs": []
    },
    {
      "cell_type": "markdown",
      "source": [
        "Move up module"
      ],
      "metadata": {
        "id": "eBGr2cZL1lgQ"
      }
    },
    {
      "cell_type": "code",
      "source": [
        "def up(envi,movable):\n",
        "  temp_envi = envi\n",
        "  max = 0\n",
        "  a=0\n",
        "  up=[5,5]\n",
        "  for row in movable:\n",
        "    if(row[0]<up[0]):\n",
        "      up = row\n",
        "  if(x==0):\n",
        "    return envi\n",
        "  else:\n",
        "    temp = temp_envi[up[0]][up[1]]\n",
        "    temp_envi[x][y]= temp\n",
        "    temp_envi[up[0]][up[1]]= 0\n",
        "  return temp_envi\n",
        "\n",
        "#x,y = pos_of_null(envi)\n",
        "#movable = possible(x,y,envi)\n",
        "#print(\"New null pos is:\",x,y)"
      ],
      "metadata": {
        "id": "pBh1kLtvytCM"
      },
      "execution_count": 5,
      "outputs": []
    },
    {
      "cell_type": "markdown",
      "source": [
        "Move down module"
      ],
      "metadata": {
        "id": "mpYEHotd1pb4"
      }
    },
    {
      "cell_type": "code",
      "source": [
        "def down(envi,movable):\n",
        "  temp_envi = envi\n",
        "  max = 0\n",
        "  a=0\n",
        "  down=[0,0]\n",
        "  for row in movable:\n",
        "    if(row[0]>down[0]):\n",
        "      down = row\n",
        "  if(x==2 or x==down[0]):\n",
        "    return envi\n",
        "  else:\n",
        "    temp = temp_envi[down[0]][down[1]]\n",
        "    temp_envi[x][y]= temp\n",
        "    temp_envi[down[0]][down[1]]= 0\n",
        "  pos_of_null(temp_envi)\n",
        "  return temp_envi\n",
        "#envi = down(envi,movable)\n",
        "#print_envi(envi)\n",
        "#x,y = pos_of_null(envi)\n",
        "#movable = possible(x,y,envi)\n",
        "#print(\"New null pos is:\",x,y)\n"
      ],
      "metadata": {
        "id": "Gqtj8Urmvtva"
      },
      "execution_count": 6,
      "outputs": []
    },
    {
      "cell_type": "markdown",
      "source": [
        "Move left module"
      ],
      "metadata": {
        "id": "iK3FTzbZ1s4A"
      }
    },
    {
      "cell_type": "code",
      "source": [
        "def left(envi,movable):\n",
        "  temp_envi = envi\n",
        "  max = 0\n",
        "  a=0\n",
        "  left=[5,5]\n",
        "  for row in movable:\n",
        "    if(row[1]<left[1]):\n",
        "      left = row\n",
        "  if(y==0 or y==left[1]):\n",
        "    return envi\n",
        "  else:\n",
        "    temp = temp_envi[left[0]][left[1]]\n",
        "    temp_envi[x][y]= temp\n",
        "    temp_envi[left[0]][left[1]]= 0\n",
        "  pos_of_null(temp_envi)\n",
        "  return temp_envi\n",
        "\n",
        "#envi_1 =   left(envi,movable)\n",
        "#print_envi(envi)\n",
        "#x,y = pos_of_null(envi)\n",
        "#movable = possible(x,y,envi)\n",
        "#print(\"New null pos is:\",x,y)"
      ],
      "metadata": {
        "id": "ae4cVv5r3fir"
      },
      "execution_count": 7,
      "outputs": []
    },
    {
      "cell_type": "markdown",
      "source": [
        "Move right module"
      ],
      "metadata": {
        "id": "oX_GVEdj1vdK"
      }
    },
    {
      "cell_type": "code",
      "source": [
        "def right(envi,movable):\n",
        "  temp_envi = envi\n",
        "  max = 0\n",
        "  a=0\n",
        "  right=[0,0]\n",
        "  for row in movable:\n",
        "    if(row[1]>right[1]):\n",
        "      right = row\n",
        "  if(y==2 or y==right[1]):\n",
        "    return envi\n",
        "  else:\n",
        "    temp = temp_envi[right[0]][right[1]]\n",
        "    temp_envi[x][y]= temp\n",
        "    temp_envi[right[0]][right[1]]= 0\n",
        "  pos_of_null(temp_envi)\n",
        "  return temp_envi\n",
        "#envi = right(envi,movable)\n",
        "#print_envi(envi)\n",
        "#x,y = pos_of_null(envi)\n",
        "#movable = possible(x,y,envi)\n",
        "##print(\"New null pos is:\",x,y)\n"
      ],
      "metadata": {
        "id": "Qv71NaJroWB7"
      },
      "execution_count": 8,
      "outputs": []
    },
    {
      "cell_type": "markdown",
      "source": [
        "Cost module"
      ],
      "metadata": {
        "id": "2Xib08481x16"
      }
    },
    {
      "cell_type": "code",
      "source": [
        "#Elements that didnt match increases cost\n",
        "def cost(envi,final_envi):\n",
        "  a = -1\n",
        "  b = -1\n",
        "  cost = 0\n",
        "  for row in envi:\n",
        "    a=a+1\n",
        "    for ele in row:\n",
        "      b = b+1\n",
        "      if(b==3):\n",
        "        b=0\n",
        "      if envi[a][b] != final_envi[a][b]:\n",
        "        cost = cost +1\n",
        "  return cost"
      ],
      "metadata": {
        "id": "QPw1DBaexNxd"
      },
      "execution_count": 9,
      "outputs": []
    },
    {
      "cell_type": "markdown",
      "source": [
        "##Complete agent\n"
      ],
      "metadata": {
        "id": "rPYu0kmT2IU_"
      }
    },
    {
      "cell_type": "markdown",
      "source": [
        "All modules of the agent:\n",
        "\n",
        "1.create_envi(n, m)\n",
        "\n",
        "2.print_envi(envi)\n",
        "\n",
        "3.pos_of_null(envi)\n",
        "\n",
        "4.possible(x,y,envi)\n",
        "\n",
        "5.up(envi,movable)\n",
        "\n",
        "6.down(envi,movable)\n",
        "\n",
        "7.left(envi,movable)\n",
        "\n",
        "8.right(envi,movable)\n",
        "\n",
        "9.cost(envi,final_envi)"
      ],
      "metadata": {
        "id": "gIAAGpnTo1zB"
      }
    },
    {
      "cell_type": "code",
      "source": [
        "#Creating envi\n",
        "#envi = create_envi(n,m)\n",
        "print(\"   This is Slide bar puzzle\\n\")\n",
        "envi = [[0, 1, 3], [4, 2, 5], [7, 8, 6]]\n",
        "final_envi=[[1, 2, 3], [4, 5, 6], [7, 8, 0]]\n",
        "print(\"Initial state is:\")\n",
        "print_envi(envi)\n",
        "print(\"Final state is:\")\n",
        "print_envi(final_envi)\n",
        "#setting up envi parameters\n",
        "x,y = pos_of_null(envi)\n",
        "movable = possible(x,y,envi)\n",
        "cost_envi = cost(envi,final_envi)\n",
        "i = 1 #limit parameter\n",
        "\n",
        "limit = limit +1\n",
        "x1,y1 = x,y\n",
        "movable1 = movable\n",
        "envi1 = copy.deepcopy(envi)\n",
        "prev_envi =[]\n",
        "limit = int(input(\"Choose the number of max iterations: \"))#limit value\n",
        "\n",
        "while(cost_envi != 0 and i != limit):\n",
        "  #holding parent nodes\n",
        "\n",
        "  prev_envi.append(envi1)\n",
        "\n",
        "  #Children created after one move\n",
        "  x,y = x1,y1\n",
        "  movable = movable1\n",
        "  envi = copy.deepcopy(envi1)\n",
        "\n",
        "  envi_child_1 = up(envi,movable)\n",
        "  x,y = x1,y1\n",
        "  movable = movable1\n",
        "  envi = copy.deepcopy(envi1)\n",
        "\n",
        "  envi_child_2 = down(envi,movable)\n",
        "  x,y = x1,y1\n",
        "  movable = movable1\n",
        "  envi = copy.deepcopy(envi1)\n",
        "\n",
        "\n",
        "  envi_child_3 = right(envi,movable)\n",
        "  x,y = x1,y1\n",
        "  movable = movable1\n",
        "  envi = copy.deepcopy(envi1)\n",
        "\n",
        "  envi_child_4 = left(envi,movable)\n",
        "  envi = copy.deepcopy(envi1)\n",
        "  #Condition to not loop in the same envi\n",
        "  #calculate all costs\n",
        "  list_of_child = [envi_child_1,envi_child_2,envi_child_3,envi_child_4]\n",
        "  list_of_true_child = []\n",
        "  final_cost =[]\n",
        "  best_cost = 10\n",
        "  best_child = []\n",
        "  for ele in list_of_child:\n",
        "    if(ele != envi):\n",
        "      list_of_true_child.append(ele)\n",
        "  for ele in list_of_true_child:\n",
        "    if(best_cost>cost(ele,final_envi)):\n",
        "      best_cost = cost(ele,final_envi)\n",
        "      best_child = copy.deepcopy(ele)\n",
        "\n",
        "  #Choose the envi with the best cost and assign it\n",
        "\n",
        "  # list_of_true_child.remove(best_child)\n",
        "  # best_cost = 10\n",
        "  # for ele in list_of_true_child:\n",
        "  #   if(best_cost>cost(ele,final_envi)):\n",
        "  #     best_cost = cost(ele,final_envi)\n",
        "  #     best_child = copy.deepcopy(ele)\n",
        "\n",
        "\n",
        "\n",
        "  envi1 = copy.deepcopy(best_child)\n",
        "  for lol in range (0,4):\n",
        "    if best_child in prev_envi:\n",
        "      list_of_true_child.remove(best_child)\n",
        "      best_cost = 10\n",
        "      for ele in list_of_true_child:\n",
        "        if(best_cost>cost(ele,final_envi)):\n",
        "          best_cost = cost(ele,final_envi)\n",
        "          best_child = copy.deepcopy(ele)\n",
        "\n",
        "  print(\"\\nNew envi after\",i,\" steps: \")\n",
        "  print_envi(envi)\n",
        "\n",
        "  #Rerunning functions to update pos of null and possible moves\n",
        "  x1,y1 = pos_of_null(envi1)\n",
        "  movable1 = possible(x1,y1,envi1)\n",
        "  #udate cost1 value and limit value \"i\"\n",
        "  cost_envi = cost(envi1,final_envi)\n",
        "  i = i+1\n",
        "\n",
        "\n",
        "if(i==limit):\n",
        "  print(\"\\n\\nThe limit has exceeded please choose initial state which had lesser steps to reach final state\")\n",
        "else:\n",
        "  print(\"\\n\\nFinal state had been reached in\" ,i,\"steps:\\n\")\n",
        "  print_envi(final_envi)"
      ],
      "metadata": {
        "colab": {
          "base_uri": "https://localhost:8080/"
        },
        "id": "GetsTt3lpdRW",
        "outputId": "278a3ca3-043e-4b68-9052-f996811d4e18"
      },
      "execution_count": 26,
      "outputs": [
        {
          "output_type": "stream",
          "name": "stdout",
          "text": [
            "   This is Slide bar puzzle\n",
            "\n",
            "Initial state is:\n",
            "[ 0 ] [ 1 ] [ 3 ] \n",
            "[ 4 ] [ 2 ] [ 5 ] \n",
            "[ 7 ] [ 8 ] [ 6 ] \n",
            "Final state is:\n",
            "[ 1 ] [ 2 ] [ 3 ] \n",
            "[ 4 ] [ 5 ] [ 6 ] \n",
            "[ 7 ] [ 8 ] [ 0 ] \n",
            "\n",
            "Choose the number of max iterations51\n",
            "\n",
            "New envi after 1  steps: \n",
            "[ 0 ] [ 1 ] [ 3 ] \n",
            "[ 4 ] [ 2 ] [ 5 ] \n",
            "[ 7 ] [ 8 ] [ 6 ] \n",
            "\n",
            "\n",
            "New envi after 2  steps: \n",
            "[ 1 ] [ 0 ] [ 3 ] \n",
            "[ 4 ] [ 2 ] [ 5 ] \n",
            "[ 7 ] [ 8 ] [ 6 ] \n",
            "\n",
            "\n",
            "New envi after 3  steps: \n",
            "[ 1 ] [ 2 ] [ 3 ] \n",
            "[ 4 ] [ 0 ] [ 5 ] \n",
            "[ 7 ] [ 8 ] [ 6 ] \n",
            "\n",
            "\n",
            "New envi after 4  steps: \n",
            "[ 1 ] [ 2 ] [ 3 ] \n",
            "[ 4 ] [ 5 ] [ 0 ] \n",
            "[ 7 ] [ 8 ] [ 6 ] \n",
            "\n",
            "\n",
            "\n",
            "Final state had been reached in 5 steps:\n",
            "\n",
            "[ 1 ] [ 2 ] [ 3 ] \n",
            "[ 4 ] [ 5 ] [ 6 ] \n",
            "[ 7 ] [ 8 ] [ 0 ] \n"
          ]
        }
      ]
    }
  ]
}